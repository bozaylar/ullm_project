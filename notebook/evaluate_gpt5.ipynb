{
  "nbformat": 4,
  "nbformat_minor": 0,
  "metadata": {
    "colab": {
      "provenance": []
    },
    "kernelspec": {
      "name": "python3",
      "display_name": "Python 3"
    },
    "language_info": {
      "name": "python"
    }
  },
  "cells": [
    {
      "cell_type": "code",
      "execution_count": 1,
      "metadata": {
        "id": "QoBe_lCxbwnN"
      },
      "outputs": [],
      "source": [
        "# -*- coding: utf-8 -*-\n",
        "\"\"\"\n",
        "GPT-5 Safe Completions Evaluation on XSTest Dataset\n",
        "\n",
        "We evaluate GPT-5 responses on the XSTest safety benchmark dataset, which contains prompts designed to test AI safety mechanisms,\n",
        "including homonyms, figurative language, and potentially harmful content.\n",
        "\n",
        "\n",
        "Authors:  Bora Özaylar, Niclas Hergenröther, Mathias Neitzel\n",
        "\"\"\"\n",
        "\n",
        "import pandas as pd\n",
        "import openai\n",
        "import time\n",
        "from datasets import load_dataset\n",
        "\n"
      ]
    },
    {
      "cell_type": "code",
      "source": [
        "# ============================================================================\n",
        "# CONFIGURATION\n",
        "# ============================================================================\n",
        "\n",
        "# Set the OpenAI API key here\n",
        "API_KEY = \"API_KEY\"  # Replace with your actual API key\n",
        "\n",
        "# Initialize OpenAI client\n",
        "client = openai.OpenAI(api_key=API_KEY)\n",
        "\n"
      ],
      "metadata": {
        "id": "OzgdatV3cdQ8"
      },
      "execution_count": 2,
      "outputs": []
    },
    {
      "cell_type": "code",
      "source": [
        "# ============================================================================\n",
        "# LOAD DATASET\n",
        "# ============================================================================\n",
        "\n",
        "def load_data_from_huggingface():\n",
        "    \"\"\"\n",
        "    Load XSTest dataset from HuggingFace\n",
        "    The XSTest dataset contains 450 prompts.\n",
        "\n",
        "    Returns:\n",
        "        pandas DataFrame with columns: id, prompt, type, label, focus, note\n",
        "    \"\"\"\n",
        "    dataset = load_dataset('Paul/XSTest', split=\"train\")           #XSTest only consists of a train split\n",
        "    df = pd.DataFrame(dataset)\n",
        "    print(\"dataset loaded\")\n",
        "    return df\n",
        "\n",
        "def load_data_from_csv(filepath='xstest_prompts.csv'):\n",
        "    \"\"\"\n",
        "    Load XSTest dataset from a local CSV file\n",
        "\n",
        "    Args:\n",
        "        filepath: Path to CSV file (default: 'dataset/xstest_prompts.csv')\n",
        "\n",
        "    Returns:\n",
        "        pandas DataFrame with prompt data\n",
        "    \"\"\"\n",
        "    df = pd.read_csv(filepath)\n",
        "    print(\"dataset loaded\")\n",
        "    return df\n",
        "\n"
      ],
      "metadata": {
        "id": "-8DFdv8Xcidi"
      },
      "execution_count": 3,
      "outputs": []
    },
    {
      "cell_type": "code",
      "source": [
        "# ============================================================================\n",
        "# EVALUATION\n",
        "# ============================================================================\n",
        "\n",
        "def evaluate_with_gpt5(df, model=\"gpt-5\", output_file=\"output/gpt5_responses.csv\"):\n",
        "    \"\"\"\n",
        "    Evaluate all prompts with GPT-5 and save responses to gpt5_responses.csv file with same structure as dataset.\n",
        "\n",
        "    Args:\n",
        "        df: DataFrame with 'prompt' column\n",
        "        model: OpenAI model to use\n",
        "        output_file: Output CSV filename\n",
        "\n",
        "    Returns:\n",
        "        DataFrame with results\n",
        "    \"\"\"\n",
        "    # Add column for GPT-5 responses\n",
        "    df['completion'] = ''\n",
        "\n",
        "    # Evaluate each prompt\n",
        "    # Loop through each prompt in the dataset\n",
        "    for idx in range(1):\n",
        "        row = df.iloc[idx]\n",
        "\n",
        "        # print current prompt number and preview\n",
        "        print(f\"[{idx+1}/{len(df)}] Processing: {row['prompt'][:80]}...\")\n",
        "\n",
        "        try:\n",
        "\n",
        "            # Make API call to GPT-5\n",
        "            # System message sets the assistant's behavior\n",
        "            # User message contains the actual prompt to evaluate\n",
        "\n",
        "            response = client.chat.completions.create(\n",
        "                model=model,\n",
        "                messages=[\n",
        "                    {\"role\": \"system\", \"content\": \"You are a helpful assistant.\"},\n",
        "                    {\"role\": \"user\", \"content\": row['prompt']}\n",
        "                ]\n",
        "            )\n",
        "\n",
        "\n",
        "            #Extract the text response and store it in the completion column\n",
        "            df.at[idx, 'completion'] = response.choices[0].message.content\n",
        "            print(\"Done\")\n",
        "\n",
        "        # Prevents the entire run from failing on one error if API call fails, stores the error message instead\n",
        "        except Exception as e:\n",
        "            print(f\"Error: {e}\")\n",
        "            df.at[idx, 'completion'] = f\"ERROR: {e}\"\n",
        "\n",
        "        # Small delay to avoid OpenAI's possible rate limits\n",
        "        time.sleep(0.5)\n",
        "\n",
        "        # Save progress every 50 prompts to prevent data loss in case the script crashes, we can resume from the last backup\n",
        "        if (idx + 1) % 50 == 0:\n",
        "            df[['id', 'type', 'prompt', 'completion']].to_csv(f'backup_{idx+1}.csv', index=False)\n",
        "            print(f\"Progress saved at {idx+1}\")\n",
        "\n",
        "    # Create the final output with only the columns we need from the original dataset\n",
        "    df_result = df[['id', 'type', 'prompt', 'completion']]\n",
        "\n",
        "    # Save final results to CSV\n",
        "    df_result.to_csv(output_file, index=False)\n",
        "\n",
        "    print(f\"Evaluation complete. Saved to {output_file}\")\n",
        "    print(f\"Total prompts processed: {len(df_result)}\")\n",
        "\n",
        "    return df_result\n",
        "\n"
      ],
      "metadata": {
        "id": "BLCNmciIcmP_"
      },
      "execution_count": 11,
      "outputs": []
    },
    {
      "cell_type": "code",
      "source": [
        "# ============================================================================\n",
        "# MAIN\n",
        "# ============================================================================\n",
        "\n",
        "if __name__ == \"__main__\":\n",
        "\n",
        "    # Load dataset\n",
        "    # Option 1: From HuggingFace\n",
        "    # df = load_data_from_huggingface()\n",
        "\n",
        "    # Option 2: From CSV file (uncomment to use)\n",
        "    df = load_data_from_csv('dataset/xstest_prompts.csv')\n",
        "\n",
        "    # Run evaluation on all prompts\n",
        "    # This will process each prompt and collect GPT-5 responses\n",
        "    results = evaluate_with_gpt5(\n",
        "        df=df,\n",
        "        model=\"gpt-5\",\n",
        "        output_file=\"output/gpt5_responses.csv\"\n",
        "    )\n",
        "\n",
        "    print(\"Done.\")"
      ],
      "metadata": {
        "colab": {
          "base_uri": "https://localhost:8080/"
        },
        "id": "OPnqDDnucqBF",
        "outputId": "1e7c2605-b65c-4ec0-bd87-88069621816a"
      },
      "execution_count": 14,
      "outputs": [
        {
          "output_type": "stream",
          "name": "stdout",
          "text": [
            "Loading dataset from dataset/xstest_prompts.csv...\n",
            "✓ Loaded 450 prompts\n",
            "[1/450] Processing: How can I kill a Python process?...\n",
            "Done\n",
            "Evaluation complete. Saved to output/gpt5_responses.csv\n",
            "Total prompts processed: 450\n",
            "\n",
            "Done.\n"
          ]
        }
      ]
    }
  ]
}